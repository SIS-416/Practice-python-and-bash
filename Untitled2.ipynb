{
 "cells": [
  {
   "cell_type": "code",
   "execution_count": 1,
   "id": "3686beef-7efd-495c-8500-bcea1d3b1517",
   "metadata": {},
   "outputs": [
    {
     "name": "stdout",
     "output_type": "stream",
     "text": [
      "shakib islam\n"
     ]
    }
   ],
   "source": [
    "print(\"shakib islam\")"
   ]
  },
  {
   "cell_type": "code",
   "execution_count": 1,
   "id": "368a198d-b259-43b7-86da-20a09e62c601",
   "metadata": {},
   "outputs": [
    {
     "name": "stdout",
     "output_type": "stream",
     "text": [
      "shakib\n",
      "shakib\n",
      "shakib\n",
      "shakib\n",
      "shakib\n",
      "shakib\n"
     ]
    }
   ],
   "source": [
    "for i in range(1,7):\n",
    "    print(\"shakib\")"
   ]
  },
  {
   "cell_type": "code",
   "execution_count": null,
   "id": "8de971a2-703a-4e4c-b350-2c3f43be56dc",
   "metadata": {},
   "outputs": [],
   "source": []
  },
  {
   "cell_type": "code",
   "execution_count": null,
   "id": "efb87088-110b-4c08-a834-8264a768a424",
   "metadata": {},
   "outputs": [],
   "source": []
  },
  {
   "cell_type": "code",
   "execution_count": null,
   "id": "7e9390c8-7510-4118-b133-a629b2fc0b92",
   "metadata": {},
   "outputs": [],
   "source": []
  }
 ],
 "metadata": {
  "kernelspec": {
   "display_name": "Python 3 (ipykernel)",
   "language": "python",
   "name": "python3"
  },
  "language_info": {
   "codemirror_mode": {
    "name": "ipython",
    "version": 3
   },
   "file_extension": ".py",
   "mimetype": "text/x-python",
   "name": "python",
   "nbconvert_exporter": "python",
   "pygments_lexer": "ipython3",
   "version": "3.10.12"
  }
 },
 "nbformat": 4,
 "nbformat_minor": 5
}
